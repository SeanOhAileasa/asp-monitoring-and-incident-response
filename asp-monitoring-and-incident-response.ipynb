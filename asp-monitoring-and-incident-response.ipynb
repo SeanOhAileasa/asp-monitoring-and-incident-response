{
 "cells": [
  {
   "cell_type": "markdown",
   "id": "d4ee9e4b",
   "metadata": {},
   "source": [
    "***\n",
    "< [Home](https://github.com/SeanOhAileasa) | [README](https://github.com/SeanOhAileasa/asp-monitoring-and-incident-response/blob/main/README.md) >\n",
    "\n",
    "## CompTIA CASP+\n",
    "###### Topic: ``Monitoring and Incident Response``\n",
    "***"
   ]
  },
  {
   "cell_type": "markdown",
   "id": "b82b07fb",
   "metadata": {},
   "source": [
    "Course material for the ``CompTIA CASP+`` certification."
   ]
  },
  {
   "cell_type": "markdown",
   "id": "e7228f57",
   "metadata": {},
   "source": [
    "<a id=\"top\"></a>\n",
    "***\n",
    "## Table of Contents\n",
    "***"
   ]
  },
  {
   "cell_type": "markdown",
   "id": "4e7d36f1",
   "metadata": {},
   "source": [
    "### [Host and Device and Network Monitoring](#A) <br/><br/> \n",
    "\n",
    "<hr width=50%;>"
   ]
  },
  {
   "cell_type": "markdown",
   "id": "bbd5ce95",
   "metadata": {},
   "source": [
    "### [Enabling Linux Syslog Forwarding](#B) <br/><br/> \n",
    "\n",
    "<hr width=50%;>"
   ]
  },
  {
   "cell_type": "markdown",
   "id": "713a4754",
   "metadata": {},
   "source": [
    "### [Managing Windows Event Viewer Logs](#C) <br/><br/> \n",
    "\n",
    "<hr width=50%;>"
   ]
  },
  {
   "cell_type": "markdown",
   "id": "f6d81c2c",
   "metadata": {},
   "source": [
    "### [Managing Cloud Logging and Alerts](#D) <br/><br/> \n",
    "\n",
    "<hr width=50%;>"
   ]
  },
  {
   "cell_type": "markdown",
   "id": "2e03dfab",
   "metadata": {},
   "source": [
    "### [Honeynets and Honeypots and Honeyfiles](#E) <br/><br/> \n",
    "\n",
    "<hr width=50%;>"
   ]
  },
  {
   "cell_type": "markdown",
   "id": "9e35c80a",
   "metadata": {},
   "source": [
    "### [Intrusion Detection and Prevention](#F) <br/><br/> \n",
    "\n",
    "<hr width=50%;>"
   ]
  },
  {
   "cell_type": "markdown",
   "id": "ab85509b",
   "metadata": {},
   "source": [
    "### [Installing the Snort IDS](#G) <br/><br/> \n",
    "\n",
    "<hr width=50%;>"
   ]
  },
  {
   "cell_type": "markdown",
   "id": "9890931d",
   "metadata": {},
   "source": [
    "### [Testing the Snort IDS](#H) <br/><br/> \n",
    "\n",
    "<hr width=50%;>"
   ]
  },
  {
   "cell_type": "markdown",
   "id": "414af434",
   "metadata": {},
   "source": [
    "### [SIEM and SOAR](#I) <br/><br/> \n",
    "\n",
    "<hr width=50%;>"
   ]
  },
  {
   "cell_type": "markdown",
   "id": "888c8c60",
   "metadata": {},
   "source": [
    "### [Network Traffic Capture Using tcpdump](#J) <br/><br/> \n",
    "\n",
    "<hr width=50%;>"
   ]
  },
  {
   "cell_type": "markdown",
   "id": "1534edc2",
   "metadata": {},
   "source": [
    "### [Network Traffic Filtering Using Wireshark](#K) <br/><br/> \n",
    "\n",
    "<hr width=50%;>"
   ]
  },
  {
   "cell_type": "markdown",
   "id": "63405553",
   "metadata": {},
   "source": [
    "### [Using nmap For Network Reconnaissance](#L) <br/><br/> \n",
    "\n",
    "<hr width=50%;>"
   ]
  },
  {
   "cell_type": "markdown",
   "id": "f1610057",
   "metadata": {},
   "source": [
    "### [Analyzing Packet Captures for Malicious Activity](#M) <br/><br/> \n",
    "\n",
    "<hr width=50%;>"
   ]
  },
  {
   "cell_type": "markdown",
   "id": "bf2b95e2",
   "metadata": {},
   "source": [
    "***\n",
    "## END"
   ]
  },
  {
   "cell_type": "markdown",
   "id": "34aa6eb5",
   "metadata": {},
   "source": [
    "< [Table of Contents](#top) | [References](#references) >\n",
    "<a id=\"A\"></a>\n",
    "***\n",
    "### Host and Device and Network Monitoring\n",
    "***"
   ]
  },
  {
   "cell_type": "markdown",
   "id": "d3323967",
   "metadata": {},
   "source": [
    "< [Table of Contents](#top) | [References](#references) >\n",
    "<a id=\"B\"></a>\n",
    "***\n",
    "### Enabling Linux Syslog Forwarding\n",
    "***"
   ]
  },
  {
   "cell_type": "markdown",
   "id": "5a4b60a2",
   "metadata": {},
   "source": [
    "< [Table of Contents](#top) | [References](#references) >\n",
    "<a id=\"C\"></a>\n",
    "***\n",
    "### Managing Windows Event Viewer Logs\n",
    "***"
   ]
  },
  {
   "cell_type": "markdown",
   "id": "c7665ad0",
   "metadata": {},
   "source": [
    "< [Table of Contents](#top) | [References](#references) >\n",
    "<a id=\"D\"></a>\n",
    "***\n",
    "### Managing Cloud Logging and Alerts\n",
    "***"
   ]
  },
  {
   "cell_type": "markdown",
   "id": "2ab410d2",
   "metadata": {},
   "source": [
    "< [Table of Contents](#top) | [References](#references) >\n",
    "<a id=\"E\"></a>\n",
    "***\n",
    "### Honeynets and Honeypots and Honeyfiles\n",
    "***"
   ]
  },
  {
   "cell_type": "markdown",
   "id": "9dcf5b76",
   "metadata": {},
   "source": [
    "< [Table of Contents](#top) | [References](#references) >\n",
    "<a id=\"F\"></a>\n",
    "***\n",
    "### Intrusion Detection and Prevention\n",
    "***"
   ]
  },
  {
   "cell_type": "markdown",
   "id": "29b144b0",
   "metadata": {},
   "source": [
    "< [Table of Contents](#top) | [References](#references) >\n",
    "<a id=\"G\"></a>\n",
    "***\n",
    "### Installing the Snort IDS\n",
    "***"
   ]
  },
  {
   "cell_type": "markdown",
   "id": "55750211",
   "metadata": {},
   "source": [
    "< [Table of Contents](#top) | [References](#references) >\n",
    "<a id=\"H\"></a>\n",
    "***\n",
    "### Testing the Snort IDS\n",
    "***"
   ]
  },
  {
   "cell_type": "markdown",
   "id": "3ccd6724",
   "metadata": {},
   "source": [
    "< [Table of Contents](#top) | [References](#references) >\n",
    "<a id=\"I\"></a>\n",
    "***\n",
    "### SIEM and SOAR\n",
    "***"
   ]
  },
  {
   "cell_type": "markdown",
   "id": "2c38399d",
   "metadata": {},
   "source": [
    "< [Table of Contents](#top) | [References](#references) >\n",
    "<a id=\"J\"></a>\n",
    "***\n",
    "### Network Traffic Capture Using tcpdump\n",
    "***"
   ]
  },
  {
   "cell_type": "markdown",
   "id": "9173122e",
   "metadata": {},
   "source": [
    "< [Table of Contents](#top) | [References](#references) >\n",
    "<a id=\"K\"></a>\n",
    "***\n",
    "### Network Traffic Filtering Using Wireshark\n",
    "***"
   ]
  },
  {
   "cell_type": "markdown",
   "id": "1d92a356",
   "metadata": {},
   "source": [
    "< [Table of Contents](#top) | [References](#references) >\n",
    "<a id=\"L\"></a>\n",
    "***\n",
    "### Using nmap For Network Reconnaissance\n",
    "***"
   ]
  },
  {
   "cell_type": "markdown",
   "id": "9e456ad4",
   "metadata": {},
   "source": [
    "< [Table of Contents](#top) | [References](#references) >\n",
    "<a id=\"M\"></a>\n",
    "***\n",
    "### Analyzing Packet Captures for Malicious Activity\n",
    "***"
   ]
  },
  {
   "cell_type": "markdown",
   "id": "2cc20932",
   "metadata": {},
   "source": [
    "***\n",
    "## END"
   ]
  },
  {
   "cell_type": "markdown",
   "id": "e0e42d51",
   "metadata": {},
   "source": [
    "< [Table of Contents](#top) >\n",
    "<a id=\"references\"></a>\n",
    "***\n",
    "## References\n",
    "***"
   ]
  },
  {
   "cell_type": "markdown",
   "id": "34c20fd6",
   "metadata": {},
   "source": [
    "skillsoft, \"Monitoring and Incident Response,\" [skillsoft.com](https://web.archive.org/web/20221102151824/https://www.skillsoft.com/get-free-trial), n.d.."
   ]
  },
  {
   "cell_type": "markdown",
   "id": "b33c372a",
   "metadata": {},
   "source": [
    "***\n",
    "## END"
   ]
  },
  {
   "cell_type": "markdown",
   "id": "e5961b4d",
   "metadata": {},
   "source": [
    "< [Table of Contents](#top) | [References](#references) >\n",
    "<a id=\"appendix\"></a>\n",
    "***\n",
    "## Appendix\n",
    "***"
   ]
  },
  {
   "cell_type": "markdown",
   "id": "00d82a82",
   "metadata": {},
   "source": [
    "***\n",
    "## END"
   ]
  },
  {
   "cell_type": "code",
   "execution_count": 1,
   "id": "706756a2",
   "metadata": {},
   "outputs": [
    {
     "data": {
      "text/html": [
       "<style>.container { width:100% !important; }</style>"
      ],
      "text/plain": [
       "<IPython.core.display.HTML object>"
      ]
     },
     "metadata": {},
     "output_type": "display_data"
    }
   ],
   "source": [
    "from IPython.display import display,HTML\n",
    "display(HTML(\"<style>.container { width:100% !important; }</style>\"))"
   ]
  },
  {
   "cell_type": "markdown",
   "id": "899c1783",
   "metadata": {},
   "source": [
    "# END JUPYTER NOTEBOOK"
   ]
  }
 ],
 "metadata": {
  "kernelspec": {
   "display_name": "Python 3 (ipykernel)",
   "language": "python",
   "name": "python3"
  },
  "language_info": {
   "codemirror_mode": {
    "name": "ipython",
    "version": 3
   },
   "file_extension": ".py",
   "mimetype": "text/x-python",
   "name": "python",
   "nbconvert_exporter": "python",
   "pygments_lexer": "ipython3",
   "version": "3.9.12"
  }
 },
 "nbformat": 4,
 "nbformat_minor": 5
}
